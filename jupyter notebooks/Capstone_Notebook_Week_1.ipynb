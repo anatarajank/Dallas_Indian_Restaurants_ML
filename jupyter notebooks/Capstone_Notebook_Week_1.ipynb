{
  "nbformat": 4,
  "nbformat_minor": 0,
  "metadata": {
    "colab": {
      "name": "Capstone Notebook Week 1.ipynb",
      "version": "0.3.2",
      "provenance": [],
      "collapsed_sections": []
    },
    "kernelspec": {
      "name": "python3",
      "display_name": "Python 3"
    }
  },
  "cells": [
    {
      "cell_type": "markdown",
      "metadata": {
        "id": "Yj0pjyRktyTd",
        "colab_type": "text"
      },
      "source": [
        "# This is the notebook for Week 1 of Coursera Capstone Final Project"
      ]
    },
    {
      "cell_type": "code",
      "metadata": {
        "id": "_dKBJG7xuBrz",
        "colab_type": "code",
        "colab": {}
      },
      "source": [
        "# importing libraries\n",
        "\n",
        "import pandas as pd\n",
        "import numpy as np"
      ],
      "execution_count": 0,
      "outputs": []
    },
    {
      "cell_type": "code",
      "metadata": {
        "id": "RliM1MSeuhjv",
        "colab_type": "code",
        "outputId": "4d866ef4-0b34-4e76-ad70-5c92494c1b9d",
        "colab": {
          "base_uri": "https://localhost:8080/",
          "height": 34
        }
      },
      "source": [
        "# print a statement\n",
        "\n",
        "print(\"Hello Capstone Project Course!\")"
      ],
      "execution_count": 0,
      "outputs": [
        {
          "output_type": "stream",
          "text": [
            "Hello Capstone Project Course!\n"
          ],
          "name": "stdout"
        }
      ]
    }
  ]
}